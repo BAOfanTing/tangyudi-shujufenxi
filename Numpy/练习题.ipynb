{
 "cells": [
  {
   "cell_type": "markdown",
   "id": "64884c72",
   "metadata": {},
   "source": [
    "### 打印当前np版本"
   ]
  },
  {
   "cell_type": "code",
   "execution_count": 2,
   "id": "aca2793e",
   "metadata": {},
   "outputs": [
    {
     "name": "stdout",
     "output_type": "stream",
     "text": [
      "1.21.5\n"
     ]
    }
   ],
   "source": [
    "import numpy as np\n",
    "print(np.__version__)"
   ]
  },
  {
   "cell_type": "markdown",
   "id": "843434f8",
   "metadata": {},
   "source": [
    "### 构造一个全零的矩阵，并打印其占用的内存大小\n"
   ]
  },
  {
   "cell_type": "code",
   "execution_count": 2,
   "id": "2524177f",
   "metadata": {},
   "outputs": [
    {
     "name": "stdout",
     "output_type": "stream",
     "text": [
      "200 bytes\n"
     ]
    }
   ],
   "source": [
    "z = np.zeros((5,5))\n",
    "print('%d bytes'% (z.size * z.itemsize))"
   ]
  },
  {
   "cell_type": "markdown",
   "id": "2a82092d",
   "metadata": {},
   "source": [
    "### 打印一个函数的帮助文档，比如numpy.add"
   ]
  },
  {
   "cell_type": "code",
   "execution_count": 3,
   "id": "a3b19204",
   "metadata": {},
   "outputs": [
    {
     "name": "stdout",
     "output_type": "stream",
     "text": [
      "add(x1, x2, /, out=None, *, where=True, casting='same_kind', order='K', dtype=None, subok=True[, signature, extobj])\n",
      "\n",
      "Add arguments element-wise.\n",
      "\n",
      "Parameters\n",
      "----------\n",
      "x1, x2 : array_like\n",
      "    The arrays to be added.\n",
      "    If ``x1.shape != x2.shape``, they must be broadcastable to a common\n",
      "    shape (which becomes the shape of the output).\n",
      "out : ndarray, None, or tuple of ndarray and None, optional\n",
      "    A location into which the result is stored. If provided, it must have\n",
      "    a shape that the inputs broadcast to. If not provided or None,\n",
      "    a freshly-allocated array is returned. A tuple (possible only as a\n",
      "    keyword argument) must have length equal to the number of outputs.\n",
      "where : array_like, optional\n",
      "    This condition is broadcast over the input. At locations where the\n",
      "    condition is True, the `out` array will be set to the ufunc result.\n",
      "    Elsewhere, the `out` array will retain its original value.\n",
      "    Note that if an uninitialized `out` array is created via the default\n",
      "    ``out=None``, locations within it where the condition is False will\n",
      "    remain uninitialized.\n",
      "**kwargs\n",
      "    For other keyword-only arguments, see the\n",
      "    :ref:`ufunc docs <ufuncs.kwargs>`.\n",
      "\n",
      "Returns\n",
      "-------\n",
      "add : ndarray or scalar\n",
      "    The sum of `x1` and `x2`, element-wise.\n",
      "    This is a scalar if both `x1` and `x2` are scalars.\n",
      "\n",
      "Notes\n",
      "-----\n",
      "Equivalent to `x1` + `x2` in terms of array broadcasting.\n",
      "\n",
      "Examples\n",
      "--------\n",
      ">>> np.add(1.0, 4.0)\n",
      "5.0\n",
      ">>> x1 = np.arange(9.0).reshape((3, 3))\n",
      ">>> x2 = np.arange(3.0)\n",
      ">>> np.add(x1, x2)\n",
      "array([[  0.,   2.,   4.],\n",
      "       [  3.,   5.,   7.],\n",
      "       [  6.,   8.,  10.]])\n",
      "\n",
      "The ``+`` operator can be used as a shorthand for ``np.add`` on ndarrays.\n",
      "\n",
      ">>> x1 = np.arange(9.0).reshape((3, 3))\n",
      ">>> x2 = np.arange(3.0)\n",
      ">>> x1 + x2\n",
      "array([[ 0.,  2.,  4.],\n",
      "       [ 3.,  5.,  7.],\n",
      "       [ 6.,  8., 10.]])\n",
      "Help on NoneType object:\n",
      "\n",
      "class NoneType(object)\n",
      " |  Methods defined here:\n",
      " |  \n",
      " |  __bool__(self, /)\n",
      " |      True if self else False\n",
      " |  \n",
      " |  __repr__(self, /)\n",
      " |      Return repr(self).\n",
      " |  \n",
      " |  ----------------------------------------------------------------------\n",
      " |  Static methods defined here:\n",
      " |  \n",
      " |  __new__(*args, **kwargs) from builtins.type\n",
      " |      Create and return a new object.  See help(type) for accurate signature.\n",
      "\n",
      "None\n"
     ]
    }
   ],
   "source": [
    "print(help(np.info(np.add)))"
   ]
  },
  {
   "cell_type": "markdown",
   "id": "b8e4dd4b",
   "metadata": {},
   "source": [
    "### 创建一个10-49的数组，并将其倒序排列\n"
   ]
  },
  {
   "cell_type": "code",
   "execution_count": 4,
   "id": "7237079f",
   "metadata": {},
   "outputs": [
    {
     "data": {
      "text/plain": [
       "array([49, 48, 47, 46, 45, 44, 43, 42, 41, 40, 39, 38, 37, 36, 35, 34, 33,\n",
       "       32, 31, 30, 29, 28, 27, 26, 25, 24, 23, 22, 21, 20, 19, 18, 17, 16,\n",
       "       15, 14, 13, 12, 11, 10])"
      ]
     },
     "execution_count": 4,
     "metadata": {},
     "output_type": "execute_result"
    }
   ],
   "source": [
    "a = np.arange(10,50,1)\n",
    "a = a[::-1]\n",
    "a"
   ]
  },
  {
   "cell_type": "markdown",
   "id": "d518fd29",
   "metadata": {},
   "source": [
    "### 找到一个数组中不为0的索引"
   ]
  },
  {
   "cell_type": "code",
   "execution_count": 5,
   "id": "367fe072",
   "metadata": {},
   "outputs": [
    {
     "data": {
      "text/plain": [
       "(array([0, 1, 2, 3, 7], dtype=int64),)"
      ]
     },
     "execution_count": 5,
     "metadata": {},
     "output_type": "execute_result"
    }
   ],
   "source": [
    "np.nonzero([1,2,3,4,0,0,0,5])"
   ]
  },
  {
   "cell_type": "markdown",
   "id": "fb3c3fde",
   "metadata": {},
   "source": [
    "### 随机构造一个3*3矩阵，并打印其中最大与最小值"
   ]
  },
  {
   "cell_type": "code",
   "execution_count": 6,
   "id": "14002346",
   "metadata": {},
   "outputs": [
    {
     "data": {
      "text/plain": [
       "0.9871180221973601"
      ]
     },
     "execution_count": 6,
     "metadata": {},
     "output_type": "execute_result"
    }
   ],
   "source": [
    "tang_array = np.random.random((3,3))\n",
    "tang_array.min()\n",
    "tang_array.max()"
   ]
  },
  {
   "cell_type": "markdown",
   "id": "cab572e3",
   "metadata": {},
   "source": [
    "### 构造一个5*5的矩阵，令其值都为1，并在最外层加上一圈0"
   ]
  },
  {
   "cell_type": "code",
   "execution_count": 9,
   "id": "0cc61e55",
   "metadata": {},
   "outputs": [
    {
     "data": {
      "text/plain": [
       "array([[0., 0., 0., 0., 0., 0., 0.],\n",
       "       [0., 1., 1., 1., 1., 1., 0.],\n",
       "       [0., 1., 1., 1., 1., 1., 0.],\n",
       "       [0., 1., 1., 1., 1., 1., 0.],\n",
       "       [0., 1., 1., 1., 1., 1., 0.],\n",
       "       [0., 1., 1., 1., 1., 1., 0.],\n",
       "       [0., 0., 0., 0., 0., 0., 0.]])"
      ]
     },
     "execution_count": 9,
     "metadata": {},
     "output_type": "execute_result"
    }
   ],
   "source": [
    "tang_array = np.ones((5,5))\n",
    "tang_array = np.pad(tang_array,pad_width = 1,mode = 'constant',constant_values = 0)\n",
    "tang_array"
   ]
  },
  {
   "cell_type": "markdown",
   "id": "9628afce",
   "metadata": {},
   "source": [
    "### 构建一个shape为(6，7，8）的矩阵，并找到第100个元素的索引值"
   ]
  },
  {
   "cell_type": "code",
   "execution_count": 3,
   "id": "21ecd6ac",
   "metadata": {},
   "outputs": [
    {
     "data": {
      "text/plain": [
       "(1, 5, 4)"
      ]
     },
     "execution_count": 3,
     "metadata": {},
     "output_type": "execute_result"
    }
   ],
   "source": [
    "np.unravel_index(100,(6,7,8))"
   ]
  },
  {
   "cell_type": "markdown",
   "id": "aef3b9eb",
   "metadata": {},
   "source": [
    "### 对一个5*5的矩阵做归一化操作\n"
   ]
  },
  {
   "cell_type": "code",
   "execution_count": 5,
   "id": "0c5d1ded",
   "metadata": {},
   "outputs": [
    {
     "name": "stderr",
     "output_type": "stream",
     "text": [
      "C:\\Users\\BAOfanTing\\AppData\\Local\\Temp\\ipykernel_5316\\2744359820.py:4: RuntimeWarning: divide by zero encountered in true_divide\n",
      "  tang_array = (tang_array - tang_min)/(tang_array - tang_max)\n"
     ]
    },
    {
     "data": {
      "text/plain": [
       "array([[ -0.39790777,  -9.29044285,  -0.23449454,  -0.21039478,\n",
       "         -0.55391001],\n",
       "       [ -8.27913882,  -0.54808152,  -0.0450577 ,  -2.32745244,\n",
       "         -0.33572775],\n",
       "       [ -0.        ,  -0.77631084,  -1.1614139 ,  -0.222405  ,\n",
       "         -0.64575061],\n",
       "       [         inf,  -2.53008052,  -0.33052741,  -4.18244624,\n",
       "        -12.12039978],\n",
       "       [ -1.01047127,  -2.96113073,  -0.66824917,  -0.55976421,\n",
       "         -0.66285732]])"
      ]
     },
     "execution_count": 5,
     "metadata": {},
     "output_type": "execute_result"
    }
   ],
   "source": [
    "tang_array = np.random.random((5,5))\n",
    "tang_max = tang_array.max()\n",
    "tang_min = tang_array.min()\n",
    "tang_array = (tang_array - tang_min)/(tang_array - tang_max)\n",
    "tang_array"
   ]
  },
  {
   "cell_type": "markdown",
   "id": "0bd26727",
   "metadata": {},
   "source": [
    "### 找到两个数组中相同的值"
   ]
  },
  {
   "cell_type": "code",
   "execution_count": 8,
   "id": "57bbef9f",
   "metadata": {},
   "outputs": [
    {
     "name": "stdout",
     "output_type": "stream",
     "text": [
      "[2 8 9]\n"
     ]
    }
   ],
   "source": [
    "z1 = np.random.randint(0,10,10)\n",
    "z2 = np.random.randint(0,10,10)\n",
    "print(np.intersect1d(z1,z2))"
   ]
  },
  {
   "cell_type": "markdown",
   "id": "aa961adf",
   "metadata": {},
   "source": [
    "### 得到今天明天昨天的日期"
   ]
  },
  {
   "cell_type": "code",
   "execution_count": 9,
   "id": "95813d1c",
   "metadata": {},
   "outputs": [
    {
     "name": "stdout",
     "output_type": "stream",
     "text": [
      "2022-08-16\n",
      "2022-08-17\n",
      "2022-08-18\n"
     ]
    }
   ],
   "source": [
    "yesterday = np.datetime64('today','D') - np.timedelta64(1,'D')\n",
    "today = np.datetime64('today','D')\n",
    "tommorow = np.datetime64('today','D') + np.timedelta64(1,'D')\n",
    "print(yesterday)\n",
    "print(today)\n",
    "print(tommorow)"
   ]
  },
  {
   "cell_type": "markdown",
   "id": "b442e962",
   "metadata": {},
   "source": [
    "### 得到一个月中的所有天"
   ]
  },
  {
   "cell_type": "code",
   "execution_count": 10,
   "id": "ddd80530",
   "metadata": {},
   "outputs": [
    {
     "data": {
      "text/plain": [
       "array(['2022-08-01', '2022-08-02', '2022-08-03', '2022-08-04',\n",
       "       '2022-08-05', '2022-08-06', '2022-08-07', '2022-08-08',\n",
       "       '2022-08-09', '2022-08-10', '2022-08-11', '2022-08-12',\n",
       "       '2022-08-13', '2022-08-14', '2022-08-15', '2022-08-16',\n",
       "       '2022-08-17', '2022-08-18', '2022-08-19', '2022-08-20',\n",
       "       '2022-08-21', '2022-08-22', '2022-08-23', '2022-08-24',\n",
       "       '2022-08-25', '2022-08-26', '2022-08-27', '2022-08-28',\n",
       "       '2022-08-29', '2022-08-30', '2022-08-31'], dtype='datetime64[D]')"
      ]
     },
     "execution_count": 10,
     "metadata": {},
     "output_type": "execute_result"
    }
   ],
   "source": [
    "np.arange('2022-08','2022-09',dtype = 'datetime64[D]')"
   ]
  },
  {
   "cell_type": "markdown",
   "id": "dde6fdd6",
   "metadata": {},
   "source": [
    "### 得到一个数的整数部分"
   ]
  },
  {
   "cell_type": "code",
   "execution_count": 11,
   "id": "b01bbcde",
   "metadata": {},
   "outputs": [
    {
     "data": {
      "text/plain": [
       "array([0., 8., 5., 9., 2., 1., 8., 5., 5., 0.])"
      ]
     },
     "execution_count": 11,
     "metadata": {},
     "output_type": "execute_result"
    }
   ],
   "source": [
    "z = np.random.uniform(0,10,10)\n",
    "np.floor(z)"
   ]
  },
  {
   "cell_type": "markdown",
   "id": "2688fa30",
   "metadata": {},
   "source": [
    "### 构造一个数组，让它不能改变"
   ]
  },
  {
   "cell_type": "code",
   "execution_count": 12,
   "id": "7f375768",
   "metadata": {},
   "outputs": [
    {
     "ename": "ValueError",
     "evalue": "assignment destination is read-only",
     "output_type": "error",
     "traceback": [
      "\u001b[1;31m---------------------------------------------------------------------------\u001b[0m",
      "\u001b[1;31mValueError\u001b[0m                                Traceback (most recent call last)",
      "Input \u001b[1;32mIn [12]\u001b[0m, in \u001b[0;36m<cell line: 3>\u001b[1;34m()\u001b[0m\n\u001b[0;32m      1\u001b[0m z \u001b[38;5;241m=\u001b[39m np\u001b[38;5;241m.\u001b[39mzeros(\u001b[38;5;241m5\u001b[39m)\n\u001b[0;32m      2\u001b[0m z\u001b[38;5;241m.\u001b[39mflags\u001b[38;5;241m.\u001b[39mwriteable \u001b[38;5;241m=\u001b[39m \u001b[38;5;28;01mFalse\u001b[39;00m\n\u001b[1;32m----> 3\u001b[0m z[\u001b[38;5;241m1\u001b[39m] \u001b[38;5;241m=\u001b[39m \u001b[38;5;241m1\u001b[39m\n",
      "\u001b[1;31mValueError\u001b[0m: assignment destination is read-only"
     ]
    }
   ],
   "source": [
    "z = np.zeros(5)\n",
    "z.flags.writeable = False\n",
    "z[1] = 1"
   ]
  },
  {
   "cell_type": "markdown",
   "id": "0503de23",
   "metadata": {},
   "source": [
    "### 打印大数据的部分值，全部值"
   ]
  },
  {
   "cell_type": "code",
   "execution_count": 16,
   "id": "562997f4",
   "metadata": {},
   "outputs": [
    {
     "data": {
      "text/plain": [
       "array([[0., 0., 0., ..., 0., 0., 0.],\n",
       "       [0., 0., 0., ..., 0., 0., 0.],\n",
       "       [0., 0., 0., ..., 0., 0., 0.],\n",
       "       ...,\n",
       "       [0., 0., 0., ..., 0., 0., 0.],\n",
       "       [0., 0., 0., ..., 0., 0., 0.],\n",
       "       [0., 0., 0., ..., 0., 0., 0.]])"
      ]
     },
     "execution_count": 16,
     "metadata": {},
     "output_type": "execute_result"
    }
   ],
   "source": [
    "np.set_printoptions(threshold = 5)# = np.inf全部打映\n",
    "z = np.zeros((15,15))\n",
    "z"
   ]
  },
  {
   "cell_type": "markdown",
   "id": "bcfc693f",
   "metadata": {},
   "source": [
    "### 找到在一个数组中，最接近一个数的索引"
   ]
  },
  {
   "cell_type": "code",
   "execution_count": 17,
   "id": "04d0b93c",
   "metadata": {},
   "outputs": [
    {
     "name": "stdout",
     "output_type": "stream",
     "text": [
      "22.733998908730246\n",
      "23\n"
     ]
    }
   ],
   "source": [
    "z = np.arange(100)\n",
    "v = np.random.uniform(0,100)\n",
    "print(v)\n",
    "index = (np.abs(z-v)).argmin()\n",
    "print(z[index])"
   ]
  },
  {
   "cell_type": "markdown",
   "id": "a0f42c7b",
   "metadata": {},
   "source": [
    "### 32位float类型和32位int类型转换"
   ]
  },
  {
   "cell_type": "code",
   "execution_count": 18,
   "id": "0ccbf4d3",
   "metadata": {},
   "outputs": [
    {
     "name": "stdout",
     "output_type": "stream",
     "text": [
      "int32\n",
      "float32\n"
     ]
    }
   ],
   "source": [
    "z = np.arange(10,dtype = np.int32)\n",
    "print(z.dtype)\n",
    "z = z.astype(np.float32)\n",
    "print(z.dtype)"
   ]
  },
  {
   "cell_type": "markdown",
   "id": "c594b32d",
   "metadata": {},
   "source": [
    "### 打印数组元素位置坐标与数值"
   ]
  },
  {
   "cell_type": "code",
   "execution_count": 20,
   "id": "581a1668",
   "metadata": {},
   "outputs": [
    {
     "name": "stdout",
     "output_type": "stream",
     "text": [
      "(0, 0) 0\n",
      "(0, 1) 1\n",
      "(0, 2) 2\n",
      "(1, 0) 3\n",
      "(1, 1) 4\n",
      "(1, 2) 5\n",
      "(2, 0) 6\n",
      "(2, 1) 7\n",
      "(2, 2) 8\n"
     ]
    }
   ],
   "source": [
    "z = np.arange(9).reshape(3,3)\n",
    "for index,value in np.ndenumerate(z):\n",
    "    print(index,value)"
   ]
  },
  {
   "cell_type": "markdown",
   "id": "d508168a",
   "metadata": {},
   "source": [
    "### 按照数组的某一列进行排序"
   ]
  },
  {
   "cell_type": "code",
   "execution_count": 22,
   "id": "4e5568df",
   "metadata": {},
   "outputs": [
    {
     "name": "stdout",
     "output_type": "stream",
     "text": [
      "[[5 6 0]\n",
      " [4 6 6]\n",
      " [3 8 5]]\n",
      "[[5 6 0]\n",
      " [4 6 6]\n",
      " [3 8 5]]\n"
     ]
    }
   ],
   "source": [
    "z = np.random.randint(0,10,(3,3))\n",
    "print(z)\n",
    "print(z[z[:,1].argsort()])#按第二列排序，然后返回下标"
   ]
  },
  {
   "cell_type": "markdown",
   "id": "312b7e45",
   "metadata": {},
   "source": [
    "### 统计数组中每个数值出现的次数"
   ]
  },
  {
   "cell_type": "code",
   "execution_count": 23,
   "id": "1dd3efb0",
   "metadata": {},
   "outputs": [
    {
     "data": {
      "text/plain": [
       "array([0, 3, 2, ..., 0, 0, 1], dtype=int64)"
      ]
     },
     "execution_count": 23,
     "metadata": {},
     "output_type": "execute_result"
    }
   ],
   "source": [
    "z = np.array([1,1,1,2,2,34,4,4,7,8,9,7,8])\n",
    "np.bincount(z)"
   ]
  },
  {
   "cell_type": "markdown",
   "id": "da8a7eb3",
   "metadata": {},
   "source": [
    "### 如何对一个四维数组的最后两维来求和"
   ]
  },
  {
   "cell_type": "code",
   "execution_count": 24,
   "id": "80f84ea2",
   "metadata": {},
   "outputs": [
    {
     "data": {
      "text/plain": [
       "array([[72, 86, 89, 56],\n",
       "       [52, 89, 55, 60],\n",
       "       [64, 63, 60, 59],\n",
       "       [63, 74, 77, 46]])"
      ]
     },
     "execution_count": 24,
     "metadata": {},
     "output_type": "execute_result"
    }
   ],
   "source": [
    "z = np.random.randint(0,10,(4,4,4,4))\n",
    "res = z.sum(axis = (-2,-1))\n",
    "res"
   ]
  },
  {
   "cell_type": "markdown",
   "id": "d5385543",
   "metadata": {},
   "source": [
    "### 交换矩阵中的两行"
   ]
  },
  {
   "cell_type": "code",
   "execution_count": 27,
   "id": "f5349768",
   "metadata": {},
   "outputs": [
    {
     "data": {
      "text/plain": [
       "array([[ 5,  6,  7,  8,  9],\n",
       "       [ 0,  1,  2,  3,  4],\n",
       "       [10, 11, 12, 13, 14],\n",
       "       [15, 16, 17, 18, 19],\n",
       "       [20, 21, 22, 23, 24]])"
      ]
     },
     "execution_count": 27,
     "metadata": {},
     "output_type": "execute_result"
    }
   ],
   "source": [
    "z = np.arange(25).reshape(5,5)\n",
    "z[[0,1]] = z[[1,0]]\n",
    "z"
   ]
  },
  {
   "cell_type": "markdown",
   "id": "45a85c5e",
   "metadata": {},
   "source": [
    "### 找到一个数组中最常出现的数字"
   ]
  },
  {
   "cell_type": "code",
   "execution_count": 29,
   "id": "49016a9e",
   "metadata": {},
   "outputs": [
    {
     "name": "stdout",
     "output_type": "stream",
     "text": [
      "8\n"
     ]
    }
   ],
   "source": [
    "z = np.random.randint(0,10,50)\n",
    "print(np.bincount(z).argmax())"
   ]
  },
  {
   "cell_type": "markdown",
   "id": "43cc5b8c",
   "metadata": {},
   "source": [
    "### 快速查找TOP K"
   ]
  },
  {
   "cell_type": "code",
   "execution_count": 31,
   "id": "65611068",
   "metadata": {},
   "outputs": [
    {
     "name": "stdout",
     "output_type": "stream",
     "text": [
      "[9999 9998 9997 9995 9996]\n"
     ]
    }
   ],
   "source": [
    "z = np.arange(10000)\n",
    "np.random.shuffle(z)\n",
    "n = 5\n",
    "print(z[np.argpartition(-z,n)[:n]])"
   ]
  },
  {
   "cell_type": "markdown",
   "id": "269c8608",
   "metadata": {},
   "source": [
    "### 去除掉一个数组中，所有元素都相同的数据"
   ]
  },
  {
   "cell_type": "code",
   "execution_count": 38,
   "id": "6837b561",
   "metadata": {},
   "outputs": [
    {
     "data": {
      "text/plain": [
       "array([[1, 2, 0],\n",
       "       [4, 7, 1],\n",
       "       [8, 8, 1],\n",
       "       [5, 4, 0],\n",
       "       [4, 5, 9],\n",
       "       [4, 0, 6],\n",
       "       [6, 5, 8],\n",
       "       [2, 6, 0],\n",
       "       [7, 2, 4],\n",
       "       [5, 5, 7]])"
      ]
     },
     "execution_count": 38,
     "metadata": {},
     "output_type": "execute_result"
    }
   ],
   "source": [
    "np.set_printoptions(threshold = np.inf)# \n",
    "z = np.random.randint(0,10,(10,3))\n",
    "z\n"
   ]
  },
  {
   "cell_type": "code",
   "execution_count": 37,
   "id": "446f883a",
   "metadata": {},
   "outputs": [
    {
     "ename": "IndexError",
     "evalue": "too many indices for array: array is 1-dimensional, but 2 were indexed",
     "output_type": "error",
     "traceback": [
      "\u001b[1;31m---------------------------------------------------------------------------\u001b[0m",
      "\u001b[1;31mIndexError\u001b[0m                                Traceback (most recent call last)",
      "Input \u001b[1;32mIn [37]\u001b[0m, in \u001b[0;36m<cell line: 1>\u001b[1;34m()\u001b[0m\n\u001b[1;32m----> 1\u001b[0m e \u001b[38;5;241m=\u001b[39m np\u001b[38;5;241m.\u001b[39mall(\u001b[43mz\u001b[49m\u001b[43m[\u001b[49m\u001b[43m:\u001b[49m\u001b[43m,\u001b[49m\u001b[38;5;241;43m1\u001b[39;49m\u001b[43m:\u001b[49m\u001b[43m]\u001b[49m \u001b[38;5;241m==\u001b[39m z[:,:\u001b[38;5;241m-\u001b[39m\u001b[38;5;241m1\u001b[39m],axis \u001b[38;5;241m=\u001b[39m \u001b[38;5;241m1\u001b[39m)\n",
      "\u001b[1;31mIndexError\u001b[0m: too many indices for array: array is 1-dimensional, but 2 were indexed"
     ]
    }
   ],
   "source": [
    "e = np.all(z[:,1:] == z[:,:-1],axis = 1)"
   ]
  },
  {
   "cell_type": "code",
   "execution_count": 35,
   "id": "7670ab05",
   "metadata": {},
   "outputs": [
    {
     "data": {
      "text/plain": [
       "False"
      ]
     },
     "execution_count": 35,
     "metadata": {},
     "output_type": "execute_result"
    }
   ],
   "source": [
    "a = np.array([1,2,3,4,5])\n",
    "b = np.array([1,3,3,4,5])\n",
    "np.all(a==b)"
   ]
  },
  {
   "cell_type": "code",
   "execution_count": null,
   "id": "a50e42f4",
   "metadata": {},
   "outputs": [],
   "source": []
  }
 ],
 "metadata": {
  "kernelspec": {
   "display_name": "Python 3 (ipykernel)",
   "language": "python",
   "name": "python3"
  },
  "language_info": {
   "codemirror_mode": {
    "name": "ipython",
    "version": 3
   },
   "file_extension": ".py",
   "mimetype": "text/x-python",
   "name": "python",
   "nbconvert_exporter": "python",
   "pygments_lexer": "ipython3",
   "version": "3.9.12"
  }
 },
 "nbformat": 4,
 "nbformat_minor": 5
}
