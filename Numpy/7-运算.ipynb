{
 "cells": [
  {
   "cell_type": "code",
   "execution_count": 3,
   "id": "685358df",
   "metadata": {},
   "outputs": [],
   "source": [
    "import numpy as np\n"
   ]
  },
  {
   "cell_type": "code",
   "execution_count": 5,
   "id": "45ddb9f6",
   "metadata": {},
   "outputs": [],
   "source": [
    "x = np.array([5,5])\n",
    "y = np.array([2,2])"
   ]
  },
  {
   "cell_type": "code",
   "execution_count": 6,
   "id": "f0d876bb",
   "metadata": {},
   "outputs": [
    {
     "data": {
      "text/plain": [
       "array([10, 10])"
      ]
     },
     "execution_count": 6,
     "metadata": {},
     "output_type": "execute_result"
    }
   ],
   "source": [
    "np.multiply(x,y)"
   ]
  },
  {
   "cell_type": "markdown",
   "id": "171a7720",
   "metadata": {},
   "source": [
    "矩阵相乘"
   ]
  },
  {
   "cell_type": "code",
   "execution_count": 7,
   "id": "fd8037b4",
   "metadata": {},
   "outputs": [
    {
     "data": {
      "text/plain": [
       "20"
      ]
     },
     "execution_count": 7,
     "metadata": {},
     "output_type": "execute_result"
    }
   ],
   "source": [
    "np.dot(x,y)"
   ]
  },
  {
   "cell_type": "code",
   "execution_count": 10,
   "id": "5574e475",
   "metadata": {},
   "outputs": [
    {
     "name": "stdout",
     "output_type": "stream",
     "text": [
      "[[1 2 3]\n",
      " [4 5 6]]\n"
     ]
    }
   ],
   "source": [
    "x = np.array([1,1,1])\n",
    "y = np.array([[1,2,3],[4,5,6]])\n",
    "print(x*y)"
   ]
  },
  {
   "cell_type": "code",
   "execution_count": 11,
   "id": "6747f672",
   "metadata": {},
   "outputs": [
    {
     "data": {
      "text/plain": [
       "array([ True,  True,  True])"
      ]
     },
     "execution_count": 11,
     "metadata": {},
     "output_type": "execute_result"
    }
   ],
   "source": [
    "x = np.array([1,1,1])\n",
    "y = np.array([1,1,1])\n",
    "x == y"
   ]
  },
  {
   "cell_type": "code",
   "execution_count": 12,
   "id": "df6e2e0f",
   "metadata": {},
   "outputs": [
    {
     "name": "stderr",
     "output_type": "stream",
     "text": [
      "C:\\Users\\BAOfanTing\\AppData\\Local\\Temp\\ipykernel_1924\\3642601902.py:3: DeprecationWarning: elementwise comparison failed; this will raise an error in the future.\n",
      "  x == y\n"
     ]
    },
    {
     "data": {
      "text/plain": [
       "False"
      ]
     },
     "execution_count": 12,
     "metadata": {},
     "output_type": "execute_result"
    }
   ],
   "source": [
    "x = np.array([1,1,1,4])\n",
    "y = np.array([1,1,1])\n",
    "x == y"
   ]
  },
  {
   "cell_type": "code",
   "execution_count": null,
   "id": "83d73d44",
   "metadata": {},
   "outputs": [],
   "source": []
  }
 ],
 "metadata": {
  "kernelspec": {
   "display_name": "Python 3 (ipykernel)",
   "language": "python",
   "name": "python3"
  },
  "language_info": {
   "codemirror_mode": {
    "name": "ipython",
    "version": 3
   },
   "file_extension": ".py",
   "mimetype": "text/x-python",
   "name": "python",
   "nbconvert_exporter": "python",
   "pygments_lexer": "ipython3",
   "version": "3.9.12"
  }
 },
 "nbformat": 4,
 "nbformat_minor": 5
}
