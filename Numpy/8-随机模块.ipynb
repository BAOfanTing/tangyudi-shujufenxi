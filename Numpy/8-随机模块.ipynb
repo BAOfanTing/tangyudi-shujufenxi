{
 "cells": [
  {
   "cell_type": "markdown",
   "id": "c163a541",
   "metadata": {},
   "source": [
    "### np的随机模块"
   ]
  },
  {
   "cell_type": "code",
   "execution_count": 1,
   "id": "0e09770b",
   "metadata": {},
   "outputs": [],
   "source": [
    "import numpy as np"
   ]
  },
  {
   "cell_type": "code",
   "execution_count": 2,
   "id": "61042690",
   "metadata": {},
   "outputs": [
    {
     "data": {
      "text/plain": [
       "array([[0.59357327, 0.76053693],\n",
       "       [0.27017772, 0.88354974],\n",
       "       [0.29585445, 0.58799949]])"
      ]
     },
     "execution_count": 2,
     "metadata": {},
     "output_type": "execute_result"
    }
   ],
   "source": [
    "#所有制都是0-1，浮点数\n",
    "np.random.rand(3,2)"
   ]
  },
  {
   "cell_type": "code",
   "execution_count": 4,
   "id": "e0774ab3",
   "metadata": {},
   "outputs": [
    {
     "data": {
      "text/plain": [
       "array([[4, 3, 3, 2],\n",
       "       [8, 1, 4, 6],\n",
       "       [8, 4, 8, 7],\n",
       "       [0, 2, 1, 1],\n",
       "       [0, 1, 6, 9]])"
      ]
     },
     "execution_count": 4,
     "metadata": {},
     "output_type": "execute_result"
    }
   ],
   "source": [
    "#锁机整数，左闭右开\n",
    "np.random.randint(10,size = (5,4))"
   ]
  },
  {
   "cell_type": "code",
   "execution_count": 5,
   "id": "78d8b0f1",
   "metadata": {},
   "outputs": [
    {
     "data": {
      "text/plain": [
       "0.7576339582584967"
      ]
     },
     "execution_count": 5,
     "metadata": {},
     "output_type": "execute_result"
    }
   ],
   "source": [
    "np.random.random_sample()"
   ]
  },
  {
   "cell_type": "code",
   "execution_count": 6,
   "id": "a5d255b3",
   "metadata": {},
   "outputs": [
    {
     "data": {
      "text/plain": [
       "array([8, 8, 4])"
      ]
     },
     "execution_count": 6,
     "metadata": {},
     "output_type": "execute_result"
    }
   ],
   "source": [
    "np.random.randint(0,10,3)"
   ]
  },
  {
   "cell_type": "code",
   "execution_count": 14,
   "id": "bbef50c5",
   "metadata": {},
   "outputs": [],
   "source": [
    "np.set_printoptions(precision = 3)#设置小数点"
   ]
  },
  {
   "cell_type": "code",
   "execution_count": 15,
   "id": "6a5e7265",
   "metadata": {},
   "outputs": [
    {
     "data": {
      "text/plain": [
       "array([ 0.024, -0.036, -0.017,  0.077, -0.202,  0.103, -0.12 ,  0.059,\n",
       "        0.232,  0.103])"
      ]
     },
     "execution_count": 15,
     "metadata": {},
     "output_type": "execute_result"
    }
   ],
   "source": [
    "mu,sigma = 0,0.1\n",
    "n = np.random.normal(mu,sigma,10)\n",
    "n"
   ]
  },
  {
   "cell_type": "markdown",
   "id": "da982e0e",
   "metadata": {},
   "source": [
    "### 洗牌"
   ]
  },
  {
   "cell_type": "code",
   "execution_count": 18,
   "id": "77951e23",
   "metadata": {},
   "outputs": [
    {
     "data": {
      "text/plain": [
       "array([0, 1, 2, 3, 4, 5, 6, 7, 8, 9])"
      ]
     },
     "execution_count": 18,
     "metadata": {},
     "output_type": "execute_result"
    }
   ],
   "source": [
    "tang_array = np.arange(10)\n",
    "tang_array"
   ]
  },
  {
   "cell_type": "code",
   "execution_count": 19,
   "id": "899a92e2",
   "metadata": {},
   "outputs": [
    {
     "data": {
      "text/plain": [
       "array([8, 3, 4, 7, 1, 0, 9, 2, 6, 5])"
      ]
     },
     "execution_count": 19,
     "metadata": {},
     "output_type": "execute_result"
    }
   ],
   "source": [
    "np.random.shuffle(tang_array)\n",
    "tang_array"
   ]
  },
  {
   "cell_type": "markdown",
   "id": "dd167d80",
   "metadata": {},
   "source": [
    "### 随机的种子"
   ]
  },
  {
   "cell_type": "code",
   "execution_count": 24,
   "id": "f8f02d90",
   "metadata": {},
   "outputs": [],
   "source": [
    "np.random.seed(0)"
   ]
  },
  {
   "cell_type": "code",
   "execution_count": 25,
   "id": "0cb57682",
   "metadata": {},
   "outputs": [
    {
     "data": {
      "text/plain": [
       "array([ 0.176,  0.04 ,  0.098,  0.224,  0.187, -0.098,  0.095, -0.015,\n",
       "       -0.01 ,  0.041])"
      ]
     },
     "execution_count": 25,
     "metadata": {},
     "output_type": "execute_result"
    }
   ],
   "source": [
    "mu,sigma = 0,0.1\n",
    "n = np.random.normal(mu,sigma,10)\n",
    "n"
   ]
  },
  {
   "cell_type": "code",
   "execution_count": null,
   "id": "c8d4df74",
   "metadata": {},
   "outputs": [],
   "source": []
  }
 ],
 "metadata": {
  "kernelspec": {
   "display_name": "Python 3 (ipykernel)",
   "language": "python",
   "name": "python3"
  },
  "language_info": {
   "codemirror_mode": {
    "name": "ipython",
    "version": 3
   },
   "file_extension": ".py",
   "mimetype": "text/x-python",
   "name": "python",
   "nbconvert_exporter": "python",
   "pygments_lexer": "ipython3",
   "version": "3.9.12"
  }
 },
 "nbformat": 4,
 "nbformat_minor": 5
}
