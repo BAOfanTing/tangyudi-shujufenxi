{
 "cells": [
  {
   "cell_type": "code",
   "execution_count": 1,
   "id": "3a06c374",
   "metadata": {},
   "outputs": [],
   "source": [
    "import numpy as np\n"
   ]
  },
  {
   "cell_type": "code",
   "execution_count": 6,
   "id": "b0c65416",
   "metadata": {},
   "outputs": [
    {
     "name": "stdout",
     "output_type": "stream",
     "text": [
      "Overwriting tang.txt\n"
     ]
    }
   ],
   "source": [
    "%%writefile tang.txt\n",
    "1 2 3 4 5 \n",
    "7 8 9 9 10"
   ]
  },
  {
   "cell_type": "code",
   "execution_count": 4,
   "id": "d4a2e605",
   "metadata": {},
   "outputs": [
    {
     "name": "stderr",
     "output_type": "stream",
     "text": [
      "C:\\Users\\BAOfanTing\\AppData\\Local\\Temp\\ipykernel_38324\\3084233582.py:7: VisibleDeprecationWarning: Creating an ndarray from ragged nested sequences (which is a list-or-tuple of lists-or-tuples-or ndarrays with different lengths or shapes) is deprecated. If you meant to do this, you must specify 'dtype=object' when creating the ndarray.\n",
      "  data = np.array(data)\n"
     ]
    },
    {
     "data": {
      "text/plain": [
       "array([list([1.0, 2.0, 3.0, 4.0, 5.0]), list([7.0, 8.0, 9.0, 9.0])],\n",
       "      dtype=object)"
      ]
     },
     "execution_count": 4,
     "metadata": {},
     "output_type": "execute_result"
    }
   ],
   "source": [
    "data = []\n",
    "with open('tang.txt') as f:\n",
    "    for line in f:\n",
    "        fileds = line.split()\n",
    "        cur_data = [float(x) for x in fileds]\n",
    "        data.append(cur_data)\n",
    "data = np.array(data)\n",
    "data"
   ]
  },
  {
   "cell_type": "code",
   "execution_count": 7,
   "id": "f61be646",
   "metadata": {},
   "outputs": [
    {
     "data": {
      "text/plain": [
       "array([[ 1.,  2.,  3.,  4.,  5.],\n",
       "       [ 7.,  8.,  9.,  9., 10.]])"
      ]
     },
     "execution_count": 7,
     "metadata": {},
     "output_type": "execute_result"
    }
   ],
   "source": [
    "data = np.loadtxt('tang.txt')\n",
    "data"
   ]
  },
  {
   "cell_type": "code",
   "execution_count": 8,
   "id": "23ac569e",
   "metadata": {},
   "outputs": [
    {
     "name": "stdout",
     "output_type": "stream",
     "text": [
      "Writing tang2.txt\n"
     ]
    }
   ],
   "source": [
    "%%writefile tang2.txt\n",
    "1,2,3,4,5 \n",
    "7,8,9,9,10"
   ]
  },
  {
   "cell_type": "code",
   "execution_count": 9,
   "id": "3001dbf4",
   "metadata": {},
   "outputs": [
    {
     "data": {
      "text/plain": [
       "array([[ 1.,  2.,  3.,  4.,  5.],\n",
       "       [ 7.,  8.,  9.,  9., 10.]])"
      ]
     },
     "execution_count": 9,
     "metadata": {},
     "output_type": "execute_result"
    }
   ],
   "source": [
    "data = np.loadtxt('tang2.txt',delimiter = ',')\n",
    "data"
   ]
  },
  {
   "cell_type": "code",
   "execution_count": 10,
   "id": "4c14ddef",
   "metadata": {},
   "outputs": [
    {
     "name": "stdout",
     "output_type": "stream",
     "text": [
      "Writing tang3.txt\n"
     ]
    }
   ],
   "source": [
    "%%writefile tang3.txt\n",
    "x,y,z,w,a,b\n",
    "1,2,3,4,5 \n",
    "7,8,9,9,10"
   ]
  },
  {
   "cell_type": "code",
   "execution_count": 12,
   "id": "bc1d2a76",
   "metadata": {},
   "outputs": [
    {
     "data": {
      "text/plain": [
       "array([[ 1.,  2.,  3.,  4.,  5.],\n",
       "       [ 7.,  8.,  9.,  9., 10.]])"
      ]
     },
     "execution_count": 12,
     "metadata": {},
     "output_type": "execute_result"
    }
   ],
   "source": [
    "data = np.loadtxt('tang2.txt',delimiter = ',',skiprows = 0)\n",
    "data"
   ]
  },
  {
   "cell_type": "markdown",
   "id": "0a4e1a96",
   "metadata": {},
   "source": [
    "* tang2.txt’:路径最好放到和代码一起\n",
    "* skiprows :去掉几行\n",
    "* delimiter = ',’:分隔符\n",
    "* usecols = (0，1,4) :指定使用哪几列"
   ]
  },
  {
   "cell_type": "code",
   "execution_count": 13,
   "id": "232c2ec1",
   "metadata": {},
   "outputs": [],
   "source": [
    "tang_array = np.array([[1,2,3],[4,5,6]])\n",
    "np.savetxt('tang_4.txt',tang_array)"
   ]
  },
  {
   "cell_type": "code",
   "execution_count": 14,
   "id": "c8304156",
   "metadata": {},
   "outputs": [],
   "source": [
    "np.savetxt('tang_4.txt',tang_array,fmt = '%d')"
   ]
  },
  {
   "cell_type": "code",
   "execution_count": 15,
   "id": "37b07c15",
   "metadata": {},
   "outputs": [],
   "source": [
    "np.savetxt('tang_4.txt',tang_array,fmt = '%d',delimiter = ' ')"
   ]
  },
  {
   "cell_type": "markdown",
   "id": "ae9954e8",
   "metadata": {},
   "source": [
    "### 读array结构\n"
   ]
  },
  {
   "cell_type": "code",
   "execution_count": 16,
   "id": "313d48e1",
   "metadata": {},
   "outputs": [],
   "source": [
    "tang_array = np.array([[1,2,3],[4,5,6]])\n",
    "np.save('tang_array.npy',tang_array)"
   ]
  },
  {
   "cell_type": "code",
   "execution_count": 17,
   "id": "c93f1ba9",
   "metadata": {},
   "outputs": [
    {
     "data": {
      "text/plain": [
       "array([[1, 2, 3],\n",
       "       [4, 5, 6]])"
      ]
     },
     "execution_count": 17,
     "metadata": {},
     "output_type": "execute_result"
    }
   ],
   "source": [
    "tang = np.load('tang_array.npy')\n",
    "tang"
   ]
  },
  {
   "cell_type": "code",
   "execution_count": 19,
   "id": "58edad84",
   "metadata": {},
   "outputs": [
    {
     "data": {
      "text/plain": [
       "array([0, 1, 2, 3, 4, 5, 6, 7, 8, 9])"
      ]
     },
     "execution_count": 19,
     "metadata": {},
     "output_type": "execute_result"
    }
   ],
   "source": [
    "tang_array2 = np.arange(10)\n",
    "tang_array2"
   ]
  },
  {
   "cell_type": "code",
   "execution_count": 20,
   "id": "630a82c3",
   "metadata": {},
   "outputs": [],
   "source": [
    "np.savez('tang.npz',a = tang_array,b = tang_array2)"
   ]
  },
  {
   "cell_type": "code",
   "execution_count": 23,
   "id": "d0155a70",
   "metadata": {},
   "outputs": [],
   "source": [
    "data= np.load('tang.npz')"
   ]
  },
  {
   "cell_type": "code",
   "execution_count": 24,
   "id": "fcc74cf5",
   "metadata": {},
   "outputs": [
    {
     "data": {
      "text/plain": [
       "KeysView(<numpy.lib.npyio.NpzFile object at 0x000001B6A03956A0>)"
      ]
     },
     "execution_count": 24,
     "metadata": {},
     "output_type": "execute_result"
    }
   ],
   "source": [
    "data.keys()"
   ]
  },
  {
   "cell_type": "code",
   "execution_count": 25,
   "id": "b60864b9",
   "metadata": {},
   "outputs": [
    {
     "data": {
      "text/plain": [
       "array([[1, 2, 3],\n",
       "       [4, 5, 6]])"
      ]
     },
     "execution_count": 25,
     "metadata": {},
     "output_type": "execute_result"
    }
   ],
   "source": [
    "data['a']"
   ]
  },
  {
   "cell_type": "code",
   "execution_count": 26,
   "id": "f51c2558",
   "metadata": {},
   "outputs": [
    {
     "data": {
      "text/plain": [
       "array([0, 1, 2, 3, 4, 5, 6, 7, 8, 9])"
      ]
     },
     "execution_count": 26,
     "metadata": {},
     "output_type": "execute_result"
    }
   ],
   "source": [
    "data['b']"
   ]
  },
  {
   "cell_type": "code",
   "execution_count": null,
   "id": "1a367a53",
   "metadata": {},
   "outputs": [],
   "source": []
  }
 ],
 "metadata": {
  "kernelspec": {
   "display_name": "Python 3 (ipykernel)",
   "language": "python",
   "name": "python3"
  },
  "language_info": {
   "codemirror_mode": {
    "name": "ipython",
    "version": 3
   },
   "file_extension": ".py",
   "mimetype": "text/x-python",
   "name": "python",
   "nbconvert_exporter": "python",
   "pygments_lexer": "ipython3",
   "version": "3.9.12"
  }
 },
 "nbformat": 4,
 "nbformat_minor": 5
}
