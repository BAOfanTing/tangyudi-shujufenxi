{
 "cells": [
  {
   "cell_type": "markdown",
   "id": "21653f50",
   "metadata": {},
   "source": [
    "### 怎么对数组进行计算"
   ]
  },
  {
   "cell_type": "code",
   "execution_count": 1,
   "id": "72b9dd13",
   "metadata": {},
   "outputs": [],
   "source": [
    "import numpy as np\n",
    "tang_array = np.array([[1,2,3],[4,5,6]])\n"
   ]
  },
  {
   "cell_type": "code",
   "execution_count": 3,
   "id": "317ff09b",
   "metadata": {},
   "outputs": [
    {
     "data": {
      "text/plain": [
       "21"
      ]
     },
     "execution_count": 3,
     "metadata": {},
     "output_type": "execute_result"
    }
   ],
   "source": [
    "np.sum(tang_array)"
   ]
  },
  {
   "cell_type": "markdown",
   "id": "2aa94897",
   "metadata": {},
   "source": [
    "指定要进行的操作是沿着什么轴（维度)\n"
   ]
  },
  {
   "cell_type": "code",
   "execution_count": 4,
   "id": "42eb4d6f",
   "metadata": {},
   "outputs": [
    {
     "data": {
      "text/plain": [
       "array([5, 7, 9])"
      ]
     },
     "execution_count": 4,
     "metadata": {},
     "output_type": "execute_result"
    }
   ],
   "source": [
    "np.sum(tang_array,axis = 0)"
   ]
  },
  {
   "cell_type": "code",
   "execution_count": 5,
   "id": "f7ceeb4b",
   "metadata": {},
   "outputs": [
    {
     "data": {
      "text/plain": [
       "array([ 6, 15])"
      ]
     },
     "execution_count": 5,
     "metadata": {},
     "output_type": "execute_result"
    }
   ],
   "source": [
    "np.sum(tang_array,axis = 1)"
   ]
  },
  {
   "cell_type": "code",
   "execution_count": 6,
   "id": "f25e0732",
   "metadata": {},
   "outputs": [
    {
     "data": {
      "text/plain": [
       "array([ 6, 15])"
      ]
     },
     "execution_count": 6,
     "metadata": {},
     "output_type": "execute_result"
    }
   ],
   "source": [
    "np.sum(tang_array,axis = -1)"
   ]
  },
  {
   "cell_type": "code",
   "execution_count": 7,
   "id": "187d0979",
   "metadata": {},
   "outputs": [
    {
     "data": {
      "text/plain": [
       "array([ 6, 15])"
      ]
     },
     "execution_count": 7,
     "metadata": {},
     "output_type": "execute_result"
    }
   ],
   "source": [
    "tang_array.sum(axis = 1)"
   ]
  },
  {
   "cell_type": "code",
   "execution_count": 8,
   "id": "55644548",
   "metadata": {},
   "outputs": [
    {
     "data": {
      "text/plain": [
       "720"
      ]
     },
     "execution_count": 8,
     "metadata": {},
     "output_type": "execute_result"
    }
   ],
   "source": [
    "tang_array.prod()#相乘"
   ]
  },
  {
   "cell_type": "code",
   "execution_count": 9,
   "id": "87b8e643",
   "metadata": {},
   "outputs": [
    {
     "data": {
      "text/plain": [
       "array([ 4, 10, 18])"
      ]
     },
     "execution_count": 9,
     "metadata": {},
     "output_type": "execute_result"
    }
   ],
   "source": [
    "tang_array.prod(axis= 0)"
   ]
  },
  {
   "cell_type": "code",
   "execution_count": 10,
   "id": "e57977a2",
   "metadata": {},
   "outputs": [
    {
     "data": {
      "text/plain": [
       "array([  6, 120])"
      ]
     },
     "execution_count": 10,
     "metadata": {},
     "output_type": "execute_result"
    }
   ],
   "source": [
    "tang_array.prod(axis= -1)"
   ]
  },
  {
   "cell_type": "code",
   "execution_count": 12,
   "id": "466344e5",
   "metadata": {},
   "outputs": [
    {
     "data": {
      "text/plain": [
       "1"
      ]
     },
     "execution_count": 12,
     "metadata": {},
     "output_type": "execute_result"
    }
   ],
   "source": [
    "tang_array.min()"
   ]
  },
  {
   "cell_type": "markdown",
   "id": "97671376",
   "metadata": {},
   "source": [
    "### 均值，标准差，方差"
   ]
  },
  {
   "cell_type": "code",
   "execution_count": 13,
   "id": "e0e67ffb",
   "metadata": {},
   "outputs": [
    {
     "data": {
      "text/plain": [
       "3.5"
      ]
     },
     "execution_count": 13,
     "metadata": {},
     "output_type": "execute_result"
    }
   ],
   "source": [
    "tang_array.mean()#均值"
   ]
  },
  {
   "cell_type": "code",
   "execution_count": 14,
   "id": "32a26861",
   "metadata": {},
   "outputs": [
    {
     "data": {
      "text/plain": [
       "1.707825127659933"
      ]
     },
     "execution_count": 14,
     "metadata": {},
     "output_type": "execute_result"
    }
   ],
   "source": [
    "tang_array.std()#标准差"
   ]
  },
  {
   "cell_type": "code",
   "execution_count": 15,
   "id": "0d04bca9",
   "metadata": {},
   "outputs": [
    {
     "data": {
      "text/plain": [
       "2.9166666666666665"
      ]
     },
     "execution_count": 15,
     "metadata": {},
     "output_type": "execute_result"
    }
   ],
   "source": [
    "tang_array.var()#方差"
   ]
  },
  {
   "cell_type": "code",
   "execution_count": 16,
   "id": "a7581859",
   "metadata": {},
   "outputs": [
    {
     "data": {
      "text/plain": [
       "array([[2, 2, 3],\n",
       "       [4, 4, 4]])"
      ]
     },
     "execution_count": 16,
     "metadata": {},
     "output_type": "execute_result"
    }
   ],
   "source": [
    "tang_array.clip(2,4)"
   ]
  },
  {
   "cell_type": "code",
   "execution_count": 17,
   "id": "cf82e91c",
   "metadata": {},
   "outputs": [
    {
     "data": {
      "text/plain": [
       "array([2., 3., 3., 6.])"
      ]
     },
     "execution_count": 17,
     "metadata": {},
     "output_type": "execute_result"
    }
   ],
   "source": [
    "tang_array = np.array([1.5,2.6,3.4,5.7])#四舍五入\n",
    "tang_array.round()"
   ]
  },
  {
   "cell_type": "code",
   "execution_count": 18,
   "id": "cc9c770a",
   "metadata": {},
   "outputs": [
    {
     "data": {
      "text/plain": [
       "array([1.5, 2.6, 3.4, 5.7])"
      ]
     },
     "execution_count": 18,
     "metadata": {},
     "output_type": "execute_result"
    }
   ],
   "source": [
    "tang_array.round(decimals = 1)"
   ]
  },
  {
   "cell_type": "code",
   "execution_count": null,
   "id": "2b07af63",
   "metadata": {},
   "outputs": [],
   "source": []
  }
 ],
 "metadata": {
  "kernelspec": {
   "display_name": "Python 3 (ipykernel)",
   "language": "python",
   "name": "python3"
  },
  "language_info": {
   "codemirror_mode": {
    "name": "ipython",
    "version": 3
   },
   "file_extension": ".py",
   "mimetype": "text/x-python",
   "name": "python",
   "nbconvert_exporter": "python",
   "pygments_lexer": "ipython3",
   "version": "3.9.12"
  }
 },
 "nbformat": 4,
 "nbformat_minor": 5
}
