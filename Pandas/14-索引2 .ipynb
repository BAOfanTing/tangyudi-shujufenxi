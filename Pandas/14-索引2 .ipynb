{
 "cells": [
  {
   "cell_type": "code",
   "execution_count": 1,
   "id": "b2c7af8f",
   "metadata": {},
   "outputs": [],
   "source": [
    "import pandas as pd\n",
    "import numpy as np"
   ]
  },
  {
   "cell_type": "code",
   "execution_count": 2,
   "id": "503fd5e3",
   "metadata": {},
   "outputs": [
    {
     "data": {
      "text/plain": [
       "4    0\n",
       "3    1\n",
       "2    2\n",
       "1    3\n",
       "0    4\n",
       "dtype: int64"
      ]
     },
     "execution_count": 2,
     "metadata": {},
     "output_type": "execute_result"
    }
   ],
   "source": [
    "s = pd.Series (np.arange(5),index = np.arange(5)[::-1], dtype='int64')\n",
    "s"
   ]
  },
  {
   "cell_type": "code",
   "execution_count": 3,
   "id": "70968dcf",
   "metadata": {},
   "outputs": [
    {
     "data": {
      "text/plain": [
       "4    False\n",
       "3     True\n",
       "2    False\n",
       "1     True\n",
       "0     True\n",
       "dtype: bool"
      ]
     },
     "execution_count": 3,
     "metadata": {},
     "output_type": "execute_result"
    }
   ],
   "source": [
    "s.isin([1,3,4])"
   ]
  },
  {
   "cell_type": "code",
   "execution_count": 4,
   "id": "0aa95399",
   "metadata": {},
   "outputs": [
    {
     "data": {
      "text/plain": [
       "3    1\n",
       "1    3\n",
       "0    4\n",
       "dtype: int64"
      ]
     },
     "execution_count": 4,
     "metadata": {},
     "output_type": "execute_result"
    }
   ],
   "source": [
    "s[s.isin([1,3,4])]"
   ]
  },
  {
   "cell_type": "code",
   "execution_count": 9,
   "id": "a5843e54",
   "metadata": {},
   "outputs": [
    {
     "data": {
      "text/plain": [
       "0   a     0\n",
       "   b      1\n",
       "   c      2\n",
       "1   a     3\n",
       "   b      4\n",
       "   c      5\n",
       "dtype: int32"
      ]
     },
     "execution_count": 9,
     "metadata": {},
     "output_type": "execute_result"
    }
   ],
   "source": [
    "s2 = pd.Series(np.arange(6), index = pd.MultiIndex.from_product([[0,1],[' a ', 'b ','c ']]))\n",
    "s2\n"
   ]
  },
  {
   "cell_type": "code",
   "execution_count": 10,
   "id": "4c70972f",
   "metadata": {
    "scrolled": true
   },
   "outputs": [
    {
     "data": {
      "text/plain": [
       "Series([], dtype: int32)"
      ]
     },
     "execution_count": 10,
     "metadata": {},
     "output_type": "execute_result"
    }
   ],
   "source": [
    "s2.iloc[s2.index.isin([(1,'a'),(0,'b')])]"
   ]
  },
  {
   "cell_type": "code",
   "execution_count": 14,
   "id": "938e93df",
   "metadata": {},
   "outputs": [
    {
     "data": {
      "text/html": [
       "<div>\n",
       "<style scoped>\n",
       "    .dataframe tbody tr th:only-of-type {\n",
       "        vertical-align: middle;\n",
       "    }\n",
       "\n",
       "    .dataframe tbody tr th {\n",
       "        vertical-align: top;\n",
       "    }\n",
       "\n",
       "    .dataframe thead th {\n",
       "        text-align: right;\n",
       "    }\n",
       "</style>\n",
       "<table border=\"1\" class=\"dataframe\">\n",
       "  <thead>\n",
       "    <tr style=\"text-align: right;\">\n",
       "      <th></th>\n",
       "      <th>A</th>\n",
       "      <th>B</th>\n",
       "      <th>C</th>\n",
       "      <th>D</th>\n",
       "    </tr>\n",
       "  </thead>\n",
       "  <tbody>\n",
       "    <tr>\n",
       "      <th>2017-11-24</th>\n",
       "      <td>0.756852</td>\n",
       "      <td>1.221741</td>\n",
       "      <td>-0.999877</td>\n",
       "      <td>1.793315</td>\n",
       "    </tr>\n",
       "    <tr>\n",
       "      <th>2017-11-25</th>\n",
       "      <td>1.136204</td>\n",
       "      <td>1.029524</td>\n",
       "      <td>-0.875915</td>\n",
       "      <td>1.236340</td>\n",
       "    </tr>\n",
       "    <tr>\n",
       "      <th>2017-11-26</th>\n",
       "      <td>0.316441</td>\n",
       "      <td>-0.148887</td>\n",
       "      <td>0.313994</td>\n",
       "      <td>0.581076</td>\n",
       "    </tr>\n",
       "    <tr>\n",
       "      <th>2017-11-27</th>\n",
       "      <td>0.732921</td>\n",
       "      <td>-2.238494</td>\n",
       "      <td>-1.157159</td>\n",
       "      <td>-1.069529</td>\n",
       "    </tr>\n",
       "    <tr>\n",
       "      <th>2017-11-28</th>\n",
       "      <td>-1.192360</td>\n",
       "      <td>0.471364</td>\n",
       "      <td>0.509348</td>\n",
       "      <td>0.248141</td>\n",
       "    </tr>\n",
       "    <tr>\n",
       "      <th>2017-11-29</th>\n",
       "      <td>1.507789</td>\n",
       "      <td>1.315115</td>\n",
       "      <td>0.138608</td>\n",
       "      <td>1.629657</td>\n",
       "    </tr>\n",
       "    <tr>\n",
       "      <th>2017-11-30</th>\n",
       "      <td>-0.225896</td>\n",
       "      <td>-0.372015</td>\n",
       "      <td>-0.020706</td>\n",
       "      <td>-1.265433</td>\n",
       "    </tr>\n",
       "    <tr>\n",
       "      <th>2017-12-01</th>\n",
       "      <td>2.882004</td>\n",
       "      <td>-0.679234</td>\n",
       "      <td>-0.475420</td>\n",
       "      <td>-2.121290</td>\n",
       "    </tr>\n",
       "  </tbody>\n",
       "</table>\n",
       "</div>"
      ],
      "text/plain": [
       "                   A         B         C         D\n",
       "2017-11-24  0.756852  1.221741 -0.999877  1.793315\n",
       "2017-11-25  1.136204  1.029524 -0.875915  1.236340\n",
       "2017-11-26  0.316441 -0.148887  0.313994  0.581076\n",
       "2017-11-27  0.732921 -2.238494 -1.157159 -1.069529\n",
       "2017-11-28 -1.192360  0.471364  0.509348  0.248141\n",
       "2017-11-29  1.507789  1.315115  0.138608  1.629657\n",
       "2017-11-30 -0.225896 -0.372015 -0.020706 -1.265433\n",
       "2017-12-01  2.882004 -0.679234 -0.475420 -2.121290"
      ]
     },
     "execution_count": 14,
     "metadata": {},
     "output_type": "execute_result"
    }
   ],
   "source": [
    "dates = pd.date_range('20171124', periods = 8)\n",
    "\n",
    "df = pd.DataFrame (np. random.randn(8,4), index=dates,columns=['A', 'B', ' C' , ' D'])\n",
    "df"
   ]
  },
  {
   "cell_type": "code",
   "execution_count": 15,
   "id": "f2eedad8",
   "metadata": {},
   "outputs": [
    {
     "ename": "AttributeError",
     "evalue": "'DataFrame' object has no attribute 'select'",
     "output_type": "error",
     "traceback": [
      "\u001b[1;31m---------------------------------------------------------------------------\u001b[0m",
      "\u001b[1;31mAttributeError\u001b[0m                            Traceback (most recent call last)",
      "Input \u001b[1;32mIn [15]\u001b[0m, in \u001b[0;36m<cell line: 1>\u001b[1;34m()\u001b[0m\n\u001b[1;32m----> 1\u001b[0m \u001b[43mdf\u001b[49m\u001b[38;5;241;43m.\u001b[39;49m\u001b[43mselect\u001b[49m(\u001b[38;5;28;01mlambda\u001b[39;00m x:x\u001b[38;5;241m==\u001b[39m\u001b[38;5;124m'\u001b[39m\u001b[38;5;124mA\u001b[39m\u001b[38;5;124m'\u001b[39m,axis \u001b[38;5;241m=\u001b[39m \u001b[38;5;124m'\u001b[39m\u001b[38;5;124mcolumns\u001b[39m\u001b[38;5;124m'\u001b[39m)\n",
      "File \u001b[1;32mE:\\Python\\lib\\site-packages\\pandas\\core\\generic.py:5575\u001b[0m, in \u001b[0;36mNDFrame.__getattr__\u001b[1;34m(self, name)\u001b[0m\n\u001b[0;32m   5568\u001b[0m \u001b[38;5;28;01mif\u001b[39;00m (\n\u001b[0;32m   5569\u001b[0m     name \u001b[38;5;129;01mnot\u001b[39;00m \u001b[38;5;129;01min\u001b[39;00m \u001b[38;5;28mself\u001b[39m\u001b[38;5;241m.\u001b[39m_internal_names_set\n\u001b[0;32m   5570\u001b[0m     \u001b[38;5;129;01mand\u001b[39;00m name \u001b[38;5;129;01mnot\u001b[39;00m \u001b[38;5;129;01min\u001b[39;00m \u001b[38;5;28mself\u001b[39m\u001b[38;5;241m.\u001b[39m_metadata\n\u001b[0;32m   5571\u001b[0m     \u001b[38;5;129;01mand\u001b[39;00m name \u001b[38;5;129;01mnot\u001b[39;00m \u001b[38;5;129;01min\u001b[39;00m \u001b[38;5;28mself\u001b[39m\u001b[38;5;241m.\u001b[39m_accessors\n\u001b[0;32m   5572\u001b[0m     \u001b[38;5;129;01mand\u001b[39;00m \u001b[38;5;28mself\u001b[39m\u001b[38;5;241m.\u001b[39m_info_axis\u001b[38;5;241m.\u001b[39m_can_hold_identifiers_and_holds_name(name)\n\u001b[0;32m   5573\u001b[0m ):\n\u001b[0;32m   5574\u001b[0m     \u001b[38;5;28;01mreturn\u001b[39;00m \u001b[38;5;28mself\u001b[39m[name]\n\u001b[1;32m-> 5575\u001b[0m \u001b[38;5;28;01mreturn\u001b[39;00m \u001b[38;5;28;43mobject\u001b[39;49m\u001b[38;5;241;43m.\u001b[39;49m\u001b[38;5;21;43m__getattribute__\u001b[39;49m\u001b[43m(\u001b[49m\u001b[38;5;28;43mself\u001b[39;49m\u001b[43m,\u001b[49m\u001b[43m \u001b[49m\u001b[43mname\u001b[49m\u001b[43m)\u001b[49m\n",
      "\u001b[1;31mAttributeError\u001b[0m: 'DataFrame' object has no attribute 'select'"
     ]
    }
   ],
   "source": [
    "df.select(lambda x:x=='A',axis = 'columns')"
   ]
  },
  {
   "cell_type": "code",
   "execution_count": 16,
   "id": "d600d11d",
   "metadata": {},
   "outputs": [
    {
     "data": {
      "text/html": [
       "<div>\n",
       "<style scoped>\n",
       "    .dataframe tbody tr th:only-of-type {\n",
       "        vertical-align: middle;\n",
       "    }\n",
       "\n",
       "    .dataframe tbody tr th {\n",
       "        vertical-align: top;\n",
       "    }\n",
       "\n",
       "    .dataframe thead th {\n",
       "        text-align: right;\n",
       "    }\n",
       "</style>\n",
       "<table border=\"1\" class=\"dataframe\">\n",
       "  <thead>\n",
       "    <tr style=\"text-align: right;\">\n",
       "      <th></th>\n",
       "      <th>A</th>\n",
       "      <th>B</th>\n",
       "      <th>C</th>\n",
       "      <th>D</th>\n",
       "    </tr>\n",
       "  </thead>\n",
       "  <tbody>\n",
       "    <tr>\n",
       "      <th>2017-11-24</th>\n",
       "      <td>NaN</td>\n",
       "      <td>NaN</td>\n",
       "      <td>-0.999877</td>\n",
       "      <td>NaN</td>\n",
       "    </tr>\n",
       "    <tr>\n",
       "      <th>2017-11-25</th>\n",
       "      <td>NaN</td>\n",
       "      <td>NaN</td>\n",
       "      <td>-0.875915</td>\n",
       "      <td>NaN</td>\n",
       "    </tr>\n",
       "    <tr>\n",
       "      <th>2017-11-26</th>\n",
       "      <td>NaN</td>\n",
       "      <td>-0.148887</td>\n",
       "      <td>NaN</td>\n",
       "      <td>NaN</td>\n",
       "    </tr>\n",
       "    <tr>\n",
       "      <th>2017-11-27</th>\n",
       "      <td>NaN</td>\n",
       "      <td>-2.238494</td>\n",
       "      <td>-1.157159</td>\n",
       "      <td>-1.069529</td>\n",
       "    </tr>\n",
       "    <tr>\n",
       "      <th>2017-11-28</th>\n",
       "      <td>-1.192360</td>\n",
       "      <td>NaN</td>\n",
       "      <td>NaN</td>\n",
       "      <td>NaN</td>\n",
       "    </tr>\n",
       "    <tr>\n",
       "      <th>2017-11-29</th>\n",
       "      <td>NaN</td>\n",
       "      <td>NaN</td>\n",
       "      <td>NaN</td>\n",
       "      <td>NaN</td>\n",
       "    </tr>\n",
       "    <tr>\n",
       "      <th>2017-11-30</th>\n",
       "      <td>-0.225896</td>\n",
       "      <td>-0.372015</td>\n",
       "      <td>-0.020706</td>\n",
       "      <td>-1.265433</td>\n",
       "    </tr>\n",
       "    <tr>\n",
       "      <th>2017-12-01</th>\n",
       "      <td>NaN</td>\n",
       "      <td>-0.679234</td>\n",
       "      <td>-0.475420</td>\n",
       "      <td>-2.121290</td>\n",
       "    </tr>\n",
       "  </tbody>\n",
       "</table>\n",
       "</div>"
      ],
      "text/plain": [
       "                   A         B         C         D\n",
       "2017-11-24       NaN       NaN -0.999877       NaN\n",
       "2017-11-25       NaN       NaN -0.875915       NaN\n",
       "2017-11-26       NaN -0.148887       NaN       NaN\n",
       "2017-11-27       NaN -2.238494 -1.157159 -1.069529\n",
       "2017-11-28 -1.192360       NaN       NaN       NaN\n",
       "2017-11-29       NaN       NaN       NaN       NaN\n",
       "2017-11-30 -0.225896 -0.372015 -0.020706 -1.265433\n",
       "2017-12-01       NaN -0.679234 -0.475420 -2.121290"
      ]
     },
     "execution_count": 16,
     "metadata": {},
     "output_type": "execute_result"
    }
   ],
   "source": [
    "df.where(df<0)"
   ]
  },
  {
   "cell_type": "code",
   "execution_count": 17,
   "id": "f0654227",
   "metadata": {},
   "outputs": [
    {
     "data": {
      "text/html": [
       "<div>\n",
       "<style scoped>\n",
       "    .dataframe tbody tr th:only-of-type {\n",
       "        vertical-align: middle;\n",
       "    }\n",
       "\n",
       "    .dataframe tbody tr th {\n",
       "        vertical-align: top;\n",
       "    }\n",
       "\n",
       "    .dataframe thead th {\n",
       "        text-align: right;\n",
       "    }\n",
       "</style>\n",
       "<table border=\"1\" class=\"dataframe\">\n",
       "  <thead>\n",
       "    <tr style=\"text-align: right;\">\n",
       "      <th></th>\n",
       "      <th>A</th>\n",
       "      <th>B</th>\n",
       "      <th>C</th>\n",
       "      <th>D</th>\n",
       "    </tr>\n",
       "  </thead>\n",
       "  <tbody>\n",
       "    <tr>\n",
       "      <th>2017-11-24</th>\n",
       "      <td>-0.756852</td>\n",
       "      <td>-1.221741</td>\n",
       "      <td>-0.999877</td>\n",
       "      <td>-1.793315</td>\n",
       "    </tr>\n",
       "    <tr>\n",
       "      <th>2017-11-25</th>\n",
       "      <td>-1.136204</td>\n",
       "      <td>-1.029524</td>\n",
       "      <td>-0.875915</td>\n",
       "      <td>-1.236340</td>\n",
       "    </tr>\n",
       "    <tr>\n",
       "      <th>2017-11-26</th>\n",
       "      <td>-0.316441</td>\n",
       "      <td>-0.148887</td>\n",
       "      <td>-0.313994</td>\n",
       "      <td>-0.581076</td>\n",
       "    </tr>\n",
       "    <tr>\n",
       "      <th>2017-11-27</th>\n",
       "      <td>-0.732921</td>\n",
       "      <td>-2.238494</td>\n",
       "      <td>-1.157159</td>\n",
       "      <td>-1.069529</td>\n",
       "    </tr>\n",
       "    <tr>\n",
       "      <th>2017-11-28</th>\n",
       "      <td>-1.192360</td>\n",
       "      <td>-0.471364</td>\n",
       "      <td>-0.509348</td>\n",
       "      <td>-0.248141</td>\n",
       "    </tr>\n",
       "    <tr>\n",
       "      <th>2017-11-29</th>\n",
       "      <td>-1.507789</td>\n",
       "      <td>-1.315115</td>\n",
       "      <td>-0.138608</td>\n",
       "      <td>-1.629657</td>\n",
       "    </tr>\n",
       "    <tr>\n",
       "      <th>2017-11-30</th>\n",
       "      <td>-0.225896</td>\n",
       "      <td>-0.372015</td>\n",
       "      <td>-0.020706</td>\n",
       "      <td>-1.265433</td>\n",
       "    </tr>\n",
       "    <tr>\n",
       "      <th>2017-12-01</th>\n",
       "      <td>-2.882004</td>\n",
       "      <td>-0.679234</td>\n",
       "      <td>-0.475420</td>\n",
       "      <td>-2.121290</td>\n",
       "    </tr>\n",
       "  </tbody>\n",
       "</table>\n",
       "</div>"
      ],
      "text/plain": [
       "                   A         B         C         D\n",
       "2017-11-24 -0.756852 -1.221741 -0.999877 -1.793315\n",
       "2017-11-25 -1.136204 -1.029524 -0.875915 -1.236340\n",
       "2017-11-26 -0.316441 -0.148887 -0.313994 -0.581076\n",
       "2017-11-27 -0.732921 -2.238494 -1.157159 -1.069529\n",
       "2017-11-28 -1.192360 -0.471364 -0.509348 -0.248141\n",
       "2017-11-29 -1.507789 -1.315115 -0.138608 -1.629657\n",
       "2017-11-30 -0.225896 -0.372015 -0.020706 -1.265433\n",
       "2017-12-01 -2.882004 -0.679234 -0.475420 -2.121290"
      ]
     },
     "execution_count": 17,
     "metadata": {},
     "output_type": "execute_result"
    }
   ],
   "source": [
    "df.where(df<0,-df)#大于0的给它加个负号"
   ]
  },
  {
   "cell_type": "code",
   "execution_count": 20,
   "id": "3fb90592",
   "metadata": {},
   "outputs": [
    {
     "data": {
      "text/html": [
       "<div>\n",
       "<style scoped>\n",
       "    .dataframe tbody tr th:only-of-type {\n",
       "        vertical-align: middle;\n",
       "    }\n",
       "\n",
       "    .dataframe tbody tr th {\n",
       "        vertical-align: top;\n",
       "    }\n",
       "\n",
       "    .dataframe thead th {\n",
       "        text-align: right;\n",
       "    }\n",
       "</style>\n",
       "<table border=\"1\" class=\"dataframe\">\n",
       "  <thead>\n",
       "    <tr style=\"text-align: right;\">\n",
       "      <th></th>\n",
       "      <th>A</th>\n",
       "      <th>B</th>\n",
       "      <th>C</th>\n",
       "    </tr>\n",
       "  </thead>\n",
       "  <tbody>\n",
       "    <tr>\n",
       "      <th>0</th>\n",
       "      <td>0.425285</td>\n",
       "      <td>2.581008</td>\n",
       "      <td>1.109709</td>\n",
       "    </tr>\n",
       "    <tr>\n",
       "      <th>1</th>\n",
       "      <td>-0.198788</td>\n",
       "      <td>-0.517609</td>\n",
       "      <td>-1.185440</td>\n",
       "    </tr>\n",
       "    <tr>\n",
       "      <th>2</th>\n",
       "      <td>-1.239160</td>\n",
       "      <td>-1.252369</td>\n",
       "      <td>1.621535</td>\n",
       "    </tr>\n",
       "    <tr>\n",
       "      <th>3</th>\n",
       "      <td>0.461692</td>\n",
       "      <td>0.229831</td>\n",
       "      <td>0.586663</td>\n",
       "    </tr>\n",
       "    <tr>\n",
       "      <th>4</th>\n",
       "      <td>0.495504</td>\n",
       "      <td>-0.871963</td>\n",
       "      <td>1.358766</td>\n",
       "    </tr>\n",
       "    <tr>\n",
       "      <th>5</th>\n",
       "      <td>1.355714</td>\n",
       "      <td>0.982908</td>\n",
       "      <td>1.051260</td>\n",
       "    </tr>\n",
       "    <tr>\n",
       "      <th>6</th>\n",
       "      <td>0.331157</td>\n",
       "      <td>-0.164900</td>\n",
       "      <td>0.026636</td>\n",
       "    </tr>\n",
       "    <tr>\n",
       "      <th>7</th>\n",
       "      <td>-0.544654</td>\n",
       "      <td>0.631161</td>\n",
       "      <td>-0.097561</td>\n",
       "    </tr>\n",
       "    <tr>\n",
       "      <th>8</th>\n",
       "      <td>-0.179410</td>\n",
       "      <td>-0.363474</td>\n",
       "      <td>0.316914</td>\n",
       "    </tr>\n",
       "    <tr>\n",
       "      <th>9</th>\n",
       "      <td>-1.170616</td>\n",
       "      <td>-0.002146</td>\n",
       "      <td>1.958608</td>\n",
       "    </tr>\n",
       "  </tbody>\n",
       "</table>\n",
       "</div>"
      ],
      "text/plain": [
       "          A         B         C\n",
       "0  0.425285  2.581008  1.109709\n",
       "1 -0.198788 -0.517609 -1.185440\n",
       "2 -1.239160 -1.252369  1.621535\n",
       "3  0.461692  0.229831  0.586663\n",
       "4  0.495504 -0.871963  1.358766\n",
       "5  1.355714  0.982908  1.051260\n",
       "6  0.331157 -0.164900  0.026636\n",
       "7 -0.544654  0.631161 -0.097561\n",
       "8 -0.179410 -0.363474  0.316914\n",
       "9 -1.170616 -0.002146  1.958608"
      ]
     },
     "execution_count": 20,
     "metadata": {},
     "output_type": "execute_result"
    }
   ],
   "source": [
    "df = pd.DataFrame(np.random.randn(10,3),columns=list('ABC'))\n",
    "df"
   ]
  },
  {
   "cell_type": "code",
   "execution_count": 23,
   "id": "75294a65",
   "metadata": {},
   "outputs": [
    {
     "data": {
      "text/html": [
       "<div>\n",
       "<style scoped>\n",
       "    .dataframe tbody tr th:only-of-type {\n",
       "        vertical-align: middle;\n",
       "    }\n",
       "\n",
       "    .dataframe tbody tr th {\n",
       "        vertical-align: top;\n",
       "    }\n",
       "\n",
       "    .dataframe thead th {\n",
       "        text-align: right;\n",
       "    }\n",
       "</style>\n",
       "<table border=\"1\" class=\"dataframe\">\n",
       "  <thead>\n",
       "    <tr style=\"text-align: right;\">\n",
       "      <th></th>\n",
       "      <th>A</th>\n",
       "      <th>B</th>\n",
       "      <th>C</th>\n",
       "    </tr>\n",
       "  </thead>\n",
       "  <tbody>\n",
       "    <tr>\n",
       "      <th>0</th>\n",
       "      <td>0.425285</td>\n",
       "      <td>2.581008</td>\n",
       "      <td>1.109709</td>\n",
       "    </tr>\n",
       "    <tr>\n",
       "      <th>7</th>\n",
       "      <td>-0.544654</td>\n",
       "      <td>0.631161</td>\n",
       "      <td>-0.097561</td>\n",
       "    </tr>\n",
       "    <tr>\n",
       "      <th>9</th>\n",
       "      <td>-1.170616</td>\n",
       "      <td>-0.002146</td>\n",
       "      <td>1.958608</td>\n",
       "    </tr>\n",
       "  </tbody>\n",
       "</table>\n",
       "</div>"
      ],
      "text/plain": [
       "          A         B         C\n",
       "0  0.425285  2.581008  1.109709\n",
       "7 -0.544654  0.631161 -0.097561\n",
       "9 -1.170616 -0.002146  1.958608"
      ]
     },
     "execution_count": 23,
     "metadata": {},
     "output_type": "execute_result"
    }
   ],
   "source": [
    "df.query('A<B')"
   ]
  },
  {
   "cell_type": "code",
   "execution_count": null,
   "id": "71798ddd",
   "metadata": {},
   "outputs": [],
   "source": []
  }
 ],
 "metadata": {
  "kernelspec": {
   "display_name": "Python 3 (ipykernel)",
   "language": "python",
   "name": "python3"
  },
  "language_info": {
   "codemirror_mode": {
    "name": "ipython",
    "version": 3
   },
   "file_extension": ".py",
   "mimetype": "text/x-python",
   "name": "python",
   "nbconvert_exporter": "python",
   "pygments_lexer": "ipython3",
   "version": "3.9.12"
  }
 },
 "nbformat": 4,
 "nbformat_minor": 5
}
